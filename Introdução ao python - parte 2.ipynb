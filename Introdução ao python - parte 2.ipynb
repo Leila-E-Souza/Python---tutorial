{
 "cells": [
  {
   "cell_type": "markdown",
   "metadata": {},
   "source": [
    "#  <span style=\"color:pink\">Introdução ao Python</span>"
   ]
  },
  {
   "cell_type": "markdown",
   "metadata": {},
   "source": [
    "### <span style=\"color:purple\">Algoritmos 2</span>"
   ]
  },
  {
   "cell_type": "markdown",
   "metadata": {},
   "source": [
    "### Arquivos\n",
    "#### - open = abre um arquiv\n",
    "#### - read() modo de leitura do arquivo\n",
    "#### - append ou \"a\" abre e adiciona texto ao arquivo\n",
    "#### - write ou \"w\" abre para escrever\n",
    "#### - "
   ]
  },
  {
   "cell_type": "code",
   "execution_count": 4,
   "metadata": {},
   "outputs": [
    {
     "name": "stdout",
     "output_type": "stream",
     "text": [
      "Leila;19\n",
      "Hugo;24\n",
      "Bea;19\n",
      "Joao;26\n"
     ]
    }
   ],
   "source": [
    "#open e read \n",
    "arquivo = open(\"contatos.txt\")\n",
    "contato = arquivo.read()\n",
    "print(contato)"
   ]
  },
  {
   "cell_type": "code",
   "execution_count": 1,
   "metadata": {},
   "outputs": [],
   "source": [
    "#append e write\n",
    "arquivo = open(\"Helloworld.txt\", 'a') \n",
    "arquivo.write(\"Ohayou Gozaimasu!\")\n",
    "arquivo.close()"
   ]
  },
  {
   "cell_type": "code",
   "execution_count": 1,
   "metadata": {},
   "outputs": [
    {
     "name": "stdout",
     "output_type": "stream",
     "text": [
      "Leila;19\n",
      "\n",
      "Hugo;24\n",
      "\n",
      "Bea;19\n",
      "\n",
      "Joao;26\n"
     ]
    }
   ],
   "source": [
    "#for loop\n",
    "\"\"\"\n",
    "arquivos contatos.txt\n",
    "\n",
    "Picasso\n",
    "Monet\n",
    "Michelangelo\n",
    "DaVinci\n",
    "\"\"\"\n",
    "\n",
    "arquivo = open(\"contatos.txt\", 'r')\n",
    "\n",
    "for artists in arquivo:\n",
    "    print(artists)\n",
    "\n",
    "arquivo.close()"
   ]
  },
  {
   "cell_type": "code",
   "execution_count": 2,
   "metadata": {},
   "outputs": [
    {
     "name": "stdout",
     "output_type": "stream",
     "text": [
      "Leila;19\n",
      "\n",
      "Hugo;24\n",
      "\n",
      "Bea;19\n",
      "\n",
      "Joao;26\n"
     ]
    }
   ],
   "source": [
    "#usando readline\n",
    "\"\"\"\n",
    "arquivos contatos.txt\n",
    "\n",
    "Picasso\n",
    "Monet\n",
    "Michelangelo\n",
    "DaVinci\n",
    "\"\"\"\n",
    "\n",
    "arquivo = open(\"contatos.txt\", 'r')\n",
    "\n",
    "for i in range(4):\n",
    "    print(arquivo.readline())\n",
    "\n",
    "arquivo.close()"
   ]
  },
  {
   "cell_type": "markdown",
   "metadata": {},
   "source": [
    "#### Arquivos CSV"
   ]
  },
  {
   "cell_type": "code",
   "execution_count": 2,
   "metadata": {},
   "outputs": [],
   "source": [
    "#Os arquivos csv \n",
    "#formato de importacao e exportacao de dados em planilhas e banco de dados\n",
    "#são usados para armazenamento de dados de forma muito \n",
    "#similar ao que normalmente usamos em planilhas\n",
    "\n",
    "import csv\n",
    "\n",
    "# 1. cria o arquivo\n",
    "f = open('numero_dobro_triplo.csv', 'w', newline='', encoding='utf-8')\n",
    "\n",
    "# 2. cria o objeto de gravação\n",
    "arq = csv.writer(f)\n",
    "\n",
    "# 3. grava as linhas\n",
    "for i in range(5):\n",
    "  arq.writerow([i, i*2, i*3])\n"
   ]
  },
  {
   "cell_type": "markdown",
   "metadata": {},
   "source": [
    "### POO - Programacao Orientada a Objetos\n",
    "\n",
    "#### A Programação Orientada a Objetos eh um metodo de programar designando objetos e seus atributos a uma classe e seus respectivos dados\n",
    "#### - Muito importante ter em mente conceitos como classe, objetos, metodos e atributos\n",
    "#### - E estar atento a seus principios basicos, Encapsulamento, Abstracao, Heranca, Polimorfismo"
   ]
  },
  {
   "cell_type": "markdown",
   "metadata": {},
   "source": [
    "#### <span style=\"color:green\">Ex.1: classe pessoa</span>"
   ]
  },
  {
   "cell_type": "code",
   "execution_count": 3,
   "metadata": {},
   "outputs": [],
   "source": [
    "#Nesse exemplo queremos dar as seguintes caracteristicas\n",
    "#nome, idade, peso\n",
    "#Tambem acrescentemos acoes\n",
    "#cozinhar, andar, e fala\n",
    "#temos entao que:\n",
    "\n",
    "class Pessoa: #aqui dizemos que queremos criar uma nova classe\n",
    "  def __init__(self, nome: str, idade: int, peso: float): #aqui definimos uma funcao construtor, essa funcao ira \n",
    "                                                            # direcionar os atributos ao objeto \n",
    "    self.nome = nome #aqui declaramos os atributos definidos acima, vamos dar nome, idade e peso\n",
    "    self.idade = idade\n",
    "    self.peso = peso\n",
    "\n",
    "  def dizer_ola(self): #aqui definimos os metodos de acao que queremos \n",
    "    print(f'Olá, meu nome é {self.nome}. Tenho {self.idade} ' #note que nesse metodo referenciamos alguns atributos\n",
    "          f'anos e meu peso é {self.peso}kg.')\n",
    "\n",
    "  def cozinhar(self, receita: str):\n",
    "    print(f'Estou cozinhando um(a): {receita}')\n",
    "\n",
    "  def andar(self, distancia: float):\n",
    "    print(f'Vou fazer uma caminhada. Volto quando completar {distancia} metros')"
   ]
  },
  {
   "cell_type": "code",
   "execution_count": 5,
   "metadata": {},
   "outputs": [
    {
     "name": "stdout",
     "output_type": "stream",
     "text": [
      "Olá, meu nome é Leila. Tenho 20 anos e meu peso é 54.5kg.\n",
      "Estou cozinhando um(a): Penne\n",
      "Vou fazer uma caminhada. Volto quando completar 1000.0 metros\n"
     ]
    }
   ],
   "source": [
    "\n",
    "#Instancia um objeto da Classe \"Pessoa\"\n",
    "pessoa = Pessoa(nome='Leila', idade=20, peso=54.50) #aqui chamamos os dados registrados que serao imprimidos \n",
    "\n",
    "#Chamamos agora os metodos da classe \"pessoa\"\n",
    "pessoa.dizer_ola()\n",
    "pessoa.cozinhar('Penne')\n",
    "pessoa.andar(1000.0)"
   ]
  },
  {
   "cell_type": "markdown",
   "metadata": {},
   "source": [
    "#### Conclusao do Ex.1\n",
    "#### - Escolhemos uma classe, seja pessoa, produtos, medias, numeros, etc. \n",
    "#### - Lhe definimos atributos, esses que irao ser definidos e descritos nas caracteristicas imprimidas da classe()\n",
    "#### - Podemos lhe dar atribuitos para implementar a classe ou dependendo do projeto, apenas definicoes basicas\n",
    "#### - Perceba que tanto os atributos quanto os metodos precisam ser definidos, usamos (self) para referenciar, mas de um jeito diferente\n",
    "#### - Por fim, podemos criar diversas classes, declarar diversos atributos e metodos, com diferentes variaveis conhecida em python."
   ]
  },
  {
   "cell_type": "markdown",
   "metadata": {},
   "source": [
    "#### <span style=\"color:green\">Ex.2: Classe Produto</span>"
   ]
  },
  {
   "cell_type": "code",
   "execution_count": null,
   "metadata": {},
   "outputs": [],
   "source": [
    "# A FAZER"
   ]
  }
 ],
 "metadata": {
  "kernelspec": {
   "display_name": "Python 3",
   "language": "python",
   "name": "python3"
  },
  "language_info": {
   "codemirror_mode": {
    "name": "ipython",
    "version": 3
   },
   "file_extension": ".py",
   "mimetype": "text/x-python",
   "name": "python",
   "nbconvert_exporter": "python",
   "pygments_lexer": "ipython3",
   "version": "3.8.3"
  }
 },
 "nbformat": 4,
 "nbformat_minor": 4
}
