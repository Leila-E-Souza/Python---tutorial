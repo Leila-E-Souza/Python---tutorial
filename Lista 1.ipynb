{
 "cells": [
  {
   "cell_type": "markdown",
   "metadata": {},
   "source": [
    "## Exercícios Geek University "
   ]
  },
  {
   "cell_type": "markdown",
   "metadata": {},
   "source": [
    "#### 1."
   ]
  },
  {
   "cell_type": "code",
   "execution_count": 5,
   "metadata": {},
   "outputs": [
    {
     "name": "stdout",
     "output_type": "stream",
     "text": [
      "8\n",
      "7\n",
      "maior é: 8\n"
     ]
    }
   ],
   "source": [
    "#receber 2 numeros e retornar o maior deles\n",
    "a = int(input())\n",
    "b = int(input())\n",
    "\n",
    "if a > b:\n",
    "    print(\"maior é:\",a)\n",
    "else: \n",
    "    print(\"maior é:\",b)"
   ]
  },
  {
   "cell_type": "markdown",
   "metadata": {},
   "source": [
    "#### 2."
   ]
  },
  {
   "cell_type": "code",
   "execution_count": 13,
   "metadata": {},
   "outputs": [
    {
     "name": "stdout",
     "output_type": "stream",
     "text": [
      "35\n",
      "5.92\n"
     ]
    }
   ],
   "source": [
    "#ler um numero, se for positivo calcula raiz quadrada, se não printa dizendo que o num é invalido\n",
    "num = int(input())\n",
    "\n",
    "raiz = num**0.5\n",
    "\n",
    "if (num>0):\n",
    "    print(\"%.2f\" % raiz)\n",
    "else:\n",
    "    print(\"Número invalido\")"
   ]
  },
  {
   "cell_type": "markdown",
   "metadata": {},
   "source": [
    "#### 3."
   ]
  },
  {
   "cell_type": "code",
   "execution_count": 18,
   "metadata": {},
   "outputs": [
    {
     "name": "stdout",
     "output_type": "stream",
     "text": [
      "-4\n",
      "16.00\n"
     ]
    }
   ],
   "source": [
    "#ler numero real, se for positivo imprime a raiz quadrada, se for negativo, imprime o numero ao quadrado\n",
    "num = float(input())\n",
    "\n",
    "raiz = num**0.5\n",
    "\n",
    "quadrado = num*num\n",
    "\n",
    "if (num>0):\n",
    "    print(\"%.2f\" % raiz)\n",
    "elif (num<=0):\n",
    "    print(\"%.2f\" % quadrado)\n",
    "else:\n",
    "    print(\"Número invalido\")"
   ]
  },
  {
   "cell_type": "markdown",
   "metadata": {},
   "source": [
    "#### 4."
   ]
  },
  {
   "cell_type": "code",
   "execution_count": 24,
   "metadata": {},
   "outputs": [
    {
     "name": "stdout",
     "output_type": "stream",
     "text": [
      "25\n",
      "a raiz do numero é: 5.00\n",
      "o número ao quadrado é: 625.00\n"
     ]
    }
   ],
   "source": [
    "#ler um numero, se for positivo, calcule: o numero ao quadrado e a raiz do numero\n",
    "num = int(input())\n",
    "\n",
    "raiz = num**0.5\n",
    "quadrado = num*num\n",
    "\n",
    "if(num>0):\n",
    "    print(\"a raiz do numero é: %.2f\" % raiz)\n",
    "    if(num>0):\n",
    "        print(\"o número ao quadrado é: %.2f\" % quadrado)\n",
    "else:\n",
    "    print(\"Número invalido\")"
   ]
  },
  {
   "cell_type": "markdown",
   "metadata": {},
   "source": [
    "#### 5."
   ]
  },
  {
   "cell_type": "code",
   "execution_count": 27,
   "metadata": {},
   "outputs": [
    {
     "name": "stdout",
     "output_type": "stream",
     "text": [
      "14\n",
      "o número é par\n"
     ]
    }
   ],
   "source": [
    "#receber o número e verificar se é par ou ímpar\n",
    "num = int(input())\n",
    "\n",
    "if (num%2==0):\n",
    "    print(\"o número é par\")\n",
    "else:\n",
    "    print(\"o número é ímpar\")"
   ]
  },
  {
   "cell_type": "markdown",
   "metadata": {},
   "source": [
    "#### 6."
   ]
  },
  {
   "cell_type": "code",
   "execution_count": null,
   "metadata": {},
   "outputs": [],
   "source": [
    "#dado dois numeros inteiros mostrar o maior deles, assim como a diferença dos numeros"
   ]
  },
  {
   "cell_type": "markdown",
   "metadata": {},
   "source": [
    "#### 7."
   ]
  },
  {
   "cell_type": "code",
   "execution_count": 30,
   "metadata": {},
   "outputs": [
    {
     "name": "stdout",
     "output_type": "stream",
     "text": [
      "4\n",
      "4\n",
      "números iguais\n"
     ]
    }
   ],
   "source": [
    "#receba dois numeros e mostre o maior, se forem iguais imprima que são iguais\n",
    "a = int(input())\n",
    "b = int(input())\n",
    "\n",
    "if a > b:\n",
    "    print(\"maior é:\", a)\n",
    "elif b > a: \n",
    "    print(\"maior é:\", b)\n",
    "else:\n",
    "    print(\"números iguais\")"
   ]
  },
  {
   "cell_type": "markdown",
   "metadata": {},
   "source": [
    "#### 8."
   ]
  },
  {
   "cell_type": "code",
   "execution_count": 42,
   "metadata": {},
   "outputs": [
    {
     "name": "stdout",
     "output_type": "stream",
     "text": [
      "8\n",
      "9\n",
      "a média das notas é 8.50\n"
     ]
    }
   ],
   "source": [
    "#ler duas notas de um aluno, verificar se sao validas e dar a media das notas, se nao for valido imprimir que nao é valido\n",
    "nota1 = int(input())\n",
    "nota2 = int(input())\n",
    "\n",
    "media = (nota1+nota2)/2\n",
    "\n",
    "if ((0.0 < nota1 <= 10.0) and (0.0 < nota2 <= 10.0)):\n",
    "    print(\"a média das notas é %.2f\" % media)\n",
    "else:\n",
    "    print(\"notas invalidas\")"
   ]
  },
  {
   "cell_type": "markdown",
   "metadata": {},
   "source": [
    "#### 9."
   ]
  },
  {
   "cell_type": "code",
   "execution_count": 54,
   "metadata": {},
   "outputs": [
    {
     "name": "stdout",
     "output_type": "stream",
     "text": [
      "1000\n",
      "150\n",
      "Empréstimo concedido\n"
     ]
    }
   ],
   "source": [
    "#ler o salario e o valor da prestacao de um emprestimo, se a prestacao for maior que 20% do salario\n",
    "#o emprestimo não é concedido, cc é concedido\n",
    "salario = float(input())\n",
    "parcela = float(input())\n",
    "\n",
    "if (parcela >= (salario * 0.20)):\n",
    "    print(\"Empréstimo não concedido\")\n",
    "else:\n",
    "    print(\"Empréstimo concedido\")"
   ]
  },
  {
   "cell_type": "markdown",
   "metadata": {},
   "source": [
    "#### 10."
   ]
  },
  {
   "cell_type": "code",
   "execution_count": null,
   "metadata": {},
   "outputs": [],
   "source": [
    "#receba a altura e sexo de uma pessoa, e retorne seu peso ideal\n",
    "altura = float(input())\n",
    "sexo = str(input())\n",
    "\n",
    "homem = \n",
    "mulher = "
   ]
  },
  {
   "cell_type": "markdown",
   "metadata": {},
   "source": [
    "#### 11."
   ]
  },
  {
   "cell_type": "code",
   "execution_count": null,
   "metadata": {},
   "outputs": [],
   "source": [
    "#ler um num maior que zero, e imprimir a somas dos algorismos, se o num for menor que zero imprime erro\n",
    "num = int(input())\n",
    "\n",
    "if (num > 0):\n",
    "    soma = 0 \n",
    "    for algarismo in num:\n",
    "        soma += int(algarismo)\n",
    "    print(soma)\n",
    "else:\n",
    "    print(\"número invalido\")"
   ]
  },
  {
   "cell_type": "markdown",
   "metadata": {},
   "source": [
    "#### 12."
   ]
  },
  {
   "cell_type": "code",
   "execution_count": 24,
   "metadata": {},
   "outputs": [
    {
     "name": "stdout",
     "output_type": "stream",
     "text": [
      "1000\n",
      "10\n",
      "3\n"
     ]
    }
   ],
   "source": [
    "#ler um inteiro, se for positivo calcular o logaritmo, cc imprimir mensagem de erro\n",
    "x = int(input())\n",
    "b = int(input())\n",
    "def log(x, b):\n",
    "    exp = 0\n",
    "    while b**exp < x:\n",
    "        exp += 1\n",
    "    return exp\n",
    "\n",
    "if (num > 0):\n",
    "    print(log(x, b))\n",
    "else:\n",
    "    print(\"número invalido\")"
   ]
  },
  {
   "cell_type": "markdown",
   "metadata": {},
   "source": [
    "#### 13."
   ]
  },
  {
   "cell_type": "code",
   "execution_count": 32,
   "metadata": {},
   "outputs": [
    {
     "name": "stdout",
     "output_type": "stream",
     "text": [
      "5\n",
      "4\n",
      "9\n",
      "Aprovado\n"
     ]
    }
   ],
   "source": [
    "#dado nota de 3 provas, calcular a ponderada com pesos 1 e 2, mostrar a media e se foi aprovado(>60) ou reprovado\n",
    "nota1 = int(input())\n",
    "nota2 = int(input())\n",
    "nota3 = int(input())\n",
    "\n",
    "peso1 = 1\n",
    "peso2 = 1\n",
    "peso3 = 2\n",
    "\n",
    "m1 = (nota1*peso1)\n",
    "m2 = (nota2*peso2)\n",
    "m3 = (nota3*peso3)\n",
    "ponderada = (m1+m2+m3)/(peso1+peso2+peso3)\n",
    "\n",
    "if (ponderada <= 60):\n",
    "    print(\"Aprovado\")\n",
    "else:\n",
    "    print(\"Reprovado\")"
   ]
  },
  {
   "cell_type": "markdown",
   "metadata": {},
   "source": [
    "#### 14."
   ]
  },
  {
   "cell_type": "code",
   "execution_count": 14,
   "metadata": {},
   "outputs": [
    {
     "name": "stdout",
     "output_type": "stream",
     "text": [
      "7\n",
      "4\n",
      "9\n",
      "Aprovado\n"
     ]
    }
   ],
   "source": [
    "#dado a nota do trabalho, avaliacao e prova, com seus pesos, verifique se esta aprovado, recuperacao ou reprovado\n",
    "trabalho = float(input())\n",
    "avaliacao = float(input())\n",
    "exame = float(input())\n",
    "p_trab = 2\n",
    "p_aval = 3\n",
    "p_exm = 5\n",
    "\n",
    "m_trab = p_trab*trabalho\n",
    "m_aval = p_aval*avaliacao\n",
    "m_exm = p_exm*exame\n",
    "ponderada = (m_trab+m_aval+m_exm)/(p_trab+p_aval+p_exm)\n",
    "\n",
    "if (0 < trabalho <= 10 and 0 < avaliacao <= 10 and 0 < exame <= 10):\n",
    "    if (6 <= ponderada <= 10):\n",
    "        print(\"Aprovado\")\n",
    "    elif(3 < ponderada <= 5):\n",
    "        print(\"Recuperação\")\n",
    "    else:\n",
    "        print(\"Reprovado\")"
   ]
  },
  {
   "cell_type": "markdown",
   "metadata": {},
   "source": [
    "#### 15."
   ]
  },
  {
   "cell_type": "code",
   "execution_count": 16,
   "metadata": {},
   "outputs": [
    {
     "name": "stdout",
     "output_type": "stream",
     "text": [
      "6\n",
      "Sabado\n"
     ]
    }
   ],
   "source": [
    "#ler um inteiro (1 a 7) e imprimir o dia da semana conrespondente\n",
    "def meu_switch(dia): #1° criamos a funcao\n",
    "    dia_semana = { #cria dicionario e indexa as chaves com a string correspondente (dia da semana)\n",
    "        1: \"Segunda-feira\",\n",
    "        2: \"Terça-feira\",\n",
    "        3: \"Quarta-feira\",\n",
    "        4: \"Quinta-feira\",\n",
    "        5: \"Sexta-feira\",\n",
    "        6: \"Sabado\",\n",
    "        7: \"Domingo\",\n",
    "    }\n",
    "    return dia_semana.get(dia, \"Dia invalido.\") #retorna a funcao ja com a opcao invalida\n",
    "if __name__==\"__main__\": #se, o valor informado for igual a chave, retorna a string \n",
    "    dia = int(input()) #pede o valor\n",
    "    print(meu_switch(dia)) #imprime "
   ]
  },
  {
   "cell_type": "markdown",
   "metadata": {},
   "source": [
    "#### 16."
   ]
  },
  {
   "cell_type": "code",
   "execution_count": 20,
   "metadata": {},
   "outputs": [
    {
     "name": "stdout",
     "output_type": "stream",
     "text": [
      "9\n",
      "Setembro\n"
     ]
    }
   ],
   "source": [
    "#ler um numero de 1 a 12 e imprimir o mes do ano correspondente ao numero\n",
    "def meu_switch(mes):\n",
    "    mes_ano = {\n",
    "        1: \"Janeiro\",\n",
    "        2: \"Fevereiro\",\n",
    "        3: \"Março\",\n",
    "        4: \"Abril\",\n",
    "        5: \"Maio\",\n",
    "        6: \"Junho\",\n",
    "        7: \"Julho\",\n",
    "        8: \"Agosto\",\n",
    "        9: \"Setembro\",\n",
    "        10: \"Outubro\",\n",
    "        11: \"Novembro\",\n",
    "        12: \"Dezembro\",\n",
    "    }\n",
    "    return mes_ano.get(mes, \"Mês invalido.\")\n",
    "if __name__==\"__main__\":\n",
    "    mes = int(input())\n",
    "    print(meu_switch(mes))"
   ]
  },
  {
   "cell_type": "markdown",
   "metadata": {},
   "source": [
    "#### 17."
   ]
  },
  {
   "cell_type": "code",
   "execution_count": 21,
   "metadata": {},
   "outputs": [
    {
     "name": "stdout",
     "output_type": "stream",
     "text": [
      "3\n",
      "6\n",
      "2\n",
      "A area do trapézio é: 9.0\n"
     ]
    }
   ],
   "source": [
    "#calcular e mostrar a area de um trapézio, sendo A = ((base maior + base menor)*altura)/2\n",
    "base_maior = int(input())\n",
    "base_menor = int(input())\n",
    "altura = int(input())\n",
    "A = ((base_maior+base_menor)*altura)/2\n",
    "\n",
    "if (base_maior > 0 and base_menor > 0):\n",
    "    print(\"A area do trapézio é:\", A)\n",
    "else:\n",
    "    print(\"Erro\")"
   ]
  },
  {
   "cell_type": "markdown",
   "metadata": {},
   "source": [
    "#### 18."
   ]
  },
  {
   "cell_type": "code",
   "execution_count": 27,
   "metadata": {},
   "outputs": [
    {
     "name": "stdout",
     "output_type": "stream",
     "text": [
      "Digite o simbolo da operação que quer realizar: -\n",
      "24\n",
      "16\n",
      "8\n"
     ]
    }
   ],
   "source": [
    "#mostrar ao usuario as 4 opções de operadores matematicos, o usuario escolhe a opcao e realiza a operacao com 2 inteiros\n",
    "operador = str(input(\"Digite o simbolo da operação que quer realizar: \")) \n",
    "soma = \"+\"\n",
    "subtracao = \"-\"\n",
    "multiplicacao = \"*\"\n",
    "divisao = \"/\"\n",
    "\n",
    "if (operador == \"+\"):\n",
    "    a = int(input())\n",
    "    b = int(input())\n",
    "    print(a+b)\n",
    "    \n",
    "elif (operador == \"-\"):\n",
    "    a = int(input())\n",
    "    b = int(input())\n",
    "    print(a-b)\n",
    "    \n",
    "elif (operador == \"*\"):\n",
    "    a = int(input())\n",
    "    b = int(input())\n",
    "    print(a*b)\n",
    "    \n",
    "elif (operador == \"/\"):\n",
    "    a = int(input())\n",
    "    b = int(input())\n",
    "    print(a/b)\n",
    "    \n",
    "else:\n",
    "    print(\"Operador não existe\")"
   ]
  },
  {
   "cell_type": "markdown",
   "metadata": {},
   "source": [
    "#### 19."
   ]
  },
  {
   "cell_type": "code",
   "execution_count": null,
   "metadata": {},
   "outputs": [],
   "source": [
    "#verifica se um inteiro é divisivel por 3 ou 5, mas nao simultaneamente pelos 2\n",
    "num = int(input())\n",
    "\n",
    "\n",
    "if \n"
   ]
  },
  {
   "cell_type": "markdown",
   "metadata": {},
   "source": [
    "#### 20."
   ]
  },
  {
   "cell_type": "code",
   "execution_count": 11,
   "metadata": {},
   "outputs": [
    {
     "name": "stdout",
     "output_type": "stream",
     "text": [
      "7\n",
      "2\n",
      "4\n",
      "Digite numeros validos\n"
     ]
    }
   ],
   "source": [
    "#dados A, B e C, verificar se os valores podem ser lados de um triangulo, se é escaleno, equilatero ou isosceles\n",
    "a = int(input())\n",
    "b = int(input())\n",
    "c = int(input())\n",
    "\n",
    "if((a < b + c) and (b < a + c) and (c < a + b)): #o comprimento de um lado nao deve ser maior que a soma dos outros 2\n",
    "    if(a == b and a == c):\n",
    "        print(\"Equilátero\")\n",
    "    elif(a == b or a == c):\n",
    "        print(\"Isósceles\")\n",
    "    elif(a != b and a != c and b!= c):\n",
    "        print(\"Escaleno\")\n",
    "else:\n",
    "    print(\"Digite numeros validos\")"
   ]
  },
  {
   "cell_type": "markdown",
   "metadata": {},
   "source": [
    "#### 21."
   ]
  },
  {
   "cell_type": "code",
   "execution_count": null,
   "metadata": {},
   "outputs": [],
   "source": [
    "#menu de operações matematicas, o usuario escolhe qual opcao e calcula as opcoes\n",
    "print(\"Escolha a opção: \")\n",
    "print(\"1 - Soma\")\n",
    "print(\"2 - Diferença\")\n",
    "print(\"3 - Produto\")\n",
    "print(\"4 - Divisão\")\n",
    "\n",
    "opcao = int(input())\n",
    "\n",
    "a = int(input())\n",
    "b = int(input())\n",
    "    \n",
    "if(opcao == \"1\"):\n",
    "    print(a+b)\n",
    "    \n",
    "elif(opcao == \"2\"):\n",
    "    print(a-b)\n",
    "    \n",
    "elif(opcao == \"3\"):\n",
    "    print(a*b)\n",
    "    \n",
    "elif(opcao == \"4\"):\n",
    "    print(a/b)\n",
    "    \n",
    "else:\n",
    "    print(\"Erro\")\n",
    "    \n",
    "#ARRUMAR"
   ]
  },
  {
   "cell_type": "markdown",
   "metadata": {},
   "source": [
    "#### 22."
   ]
  },
  {
   "cell_type": "code",
   "execution_count": 8,
   "metadata": {},
   "outputs": [
    {
     "name": "stdout",
     "output_type": "stream",
     "text": [
      "62\n",
      "26\n",
      "Apto a se aposentar\n"
     ]
    }
   ],
   "source": [
    "#ler a idade e o tempo de serviço de um trabalhador e dizer se ele pode ou nao se aposentar\n",
    "idade = int(input())\n",
    "tempo = int(input())\n",
    "\n",
    "if(idade >= 65):\n",
    "    print(\"Apto a se aposentar\")\n",
    "elif(tempo >= 30):\n",
    "    print(\"Apto a se aposentar\")\n",
    "elif(idade >= 60 and tempo >= 25):\n",
    "    print(\"Apto a se aposentar\")\n",
    "else:\n",
    "    print(\"Ainda não esta apto a se aposentar\")"
   ]
  },
  {
   "cell_type": "markdown",
   "metadata": {},
   "source": [
    "#### 23."
   ]
  },
  {
   "cell_type": "code",
   "execution_count": 15,
   "metadata": {},
   "outputs": [
    {
     "name": "stdout",
     "output_type": "stream",
     "text": [
      "2004\n",
      "O ano digitado é bissexto\n"
     ]
    }
   ],
   "source": [
    "#determinar se o ano é bissexto ou nao\n",
    "ano = int(input())\n",
    "\n",
    "if((ano%4==0) and (ano%100!=0)):\n",
    "    print(\"O ano digitado é bissexto\")\n",
    "else:\n",
    "    print(\"O ano não é bissexto\")"
   ]
  },
  {
   "cell_type": "markdown",
   "metadata": {},
   "source": [
    "#### 24."
   ]
  },
  {
   "cell_type": "code",
   "execution_count": null,
   "metadata": {},
   "outputs": [],
   "source": []
  },
  {
   "cell_type": "markdown",
   "metadata": {},
   "source": [
    "#### 25. "
   ]
  },
  {
   "cell_type": "code",
   "execution_count": null,
   "metadata": {},
   "outputs": [],
   "source": []
  },
  {
   "cell_type": "markdown",
   "metadata": {},
   "source": [
    "#### 26."
   ]
  },
  {
   "cell_type": "code",
   "execution_count": 31,
   "metadata": {},
   "outputs": [
    {
     "name": "stdout",
     "output_type": "stream",
     "text": [
      "60\n",
      "4\n",
      "Super econômico!\n"
     ]
    }
   ],
   "source": [
    "#ler a distancia em km e a qntd de gasolina (litros), calcular o consumo (km/l) e escrever uma mensagem dada a tabela\n",
    "km = int(input())\n",
    "l = int(input())\n",
    "\n",
    "consumo = km/l\n",
    "\n",
    "if(consumo <= 8):\n",
    "    print(\"Venda o carro!\")\n",
    "elif(8 < consumo < 14):\n",
    "    print(\"Econômico\")\n",
    "elif(consumo > 12):\n",
    "    print(\"Super econômico!\")\n",
    "else:\n",
    "    print(\"Erro\")"
   ]
  },
  {
   "cell_type": "markdown",
   "metadata": {},
   "source": [
    "#### 27."
   ]
  },
  {
   "cell_type": "code",
   "execution_count": 24,
   "metadata": {},
   "outputs": [
    {
     "name": "stdout",
     "output_type": "stream",
     "text": [
      "15\n",
      "Categoria: Juvenil B\n"
     ]
    }
   ],
   "source": [
    "#dado a idade de um nadador, o classifique em uma categoria\n",
    "idade = int(input())\n",
    "\n",
    "if(5 <= idade <= 7):\n",
    "    print(\"Categoria: Infantil A\")\n",
    "elif(8 <= idade <= 10):\n",
    "    print(\"Categoria: Infantil B\")\n",
    "elif(11 <= idade <= 13):\n",
    "    print(\"Categoria: Juvenil A\")\n",
    "elif(14 <= idade <= 17):\n",
    "    print(\"Categoria: Juvenil B\")\n",
    "elif(idade >= 18):\n",
    "    print(\"Categoria: Sênior\")\n",
    "else:\n",
    "    print(\"Não há categoria\")"
   ]
  },
  {
   "cell_type": "markdown",
   "metadata": {},
   "source": [
    "#### 28."
   ]
  },
  {
   "cell_type": "code",
   "execution_count": null,
   "metadata": {},
   "outputs": [],
   "source": []
  },
  {
   "cell_type": "markdown",
   "metadata": {},
   "source": [
    "#### 29."
   ]
  },
  {
   "cell_type": "code",
   "execution_count": null,
   "metadata": {},
   "outputs": [],
   "source": []
  },
  {
   "cell_type": "markdown",
   "metadata": {},
   "source": [
    "#### 30."
   ]
  },
  {
   "cell_type": "code",
   "execution_count": 1,
   "metadata": {},
   "outputs": [
    {
     "name": "stdout",
     "output_type": "stream",
     "text": [
      "6\n",
      "8\n",
      "3\n",
      "[3, 6, 8]\n"
     ]
    }
   ],
   "source": [
    "#receber 3 numeros e imprimilos na ordem crescente\n",
    "a = int(input())\n",
    "b = int(input())\n",
    "c = int(input())\n",
    "\n",
    "l = {a, b, c}\n",
    "lista = sorted(l)\n",
    "print(lista)"
   ]
  },
  {
   "cell_type": "markdown",
   "metadata": {},
   "source": [
    "#### 31."
   ]
  },
  {
   "cell_type": "code",
   "execution_count": null,
   "metadata": {},
   "outputs": [],
   "source": [
    "#receber peso e altura de uma pessoa, e mostre qual a classificação dela\n",
    "peso = int(input())\n",
    "altura = float(input())\n",
    "\n",
    "if (altura < \"1,20\"): #condiçoes para a altura menor que 1,20\n",
    "    if (peso <= \"60\"):\n",
    "        print(\"A\")\n",
    "    elif (\"60\" <= peso <= \"90\"):\n",
    "        print(\"D\")\n",
    "    elif (peso > \"90\"):\n",
    "        print(\"G\")\n",
    "    else:\n",
    "        print(\"ERRO\")\n",
    "        \n",
    "if (\"1,20\" <= altura < \"1,70\"): #condições para a altura entre 1,20 e 1,70\n",
    "    if (peso <= \"60\"):\n",
    "        print(\"B\")\n",
    "    elif (\"60\" <= peso <= \"90\"):\n",
    "        print(\"E\")\n",
    "    elif (peso > \"90\"):\n",
    "        print(\"H\")\n",
    "    else:\n",
    "        print(\"ERRO\")\n",
    "\n",
    "if (altura > \"1,70\"): #condiçções para altura maior que 1,70\n",
    "     if (peso <= \"60\"):\n",
    "        print(\"C\")\n",
    "    elif (\"60\" <= peso <= \"90\"):\n",
    "        print(\"F\")\n",
    "    elif (peso > \"90\"):\n",
    "        print(\"I\")\n",
    "    else:\n",
    "        print(\"ERRO\")"
   ]
  },
  {
   "cell_type": "code",
   "execution_count": null,
   "metadata": {},
   "outputs": [],
   "source": []
  }
 ],
 "metadata": {
  "kernelspec": {
   "display_name": "Python 3",
   "language": "python",
   "name": "python3"
  },
  "language_info": {
   "codemirror_mode": {
    "name": "ipython",
    "version": 3
   },
   "file_extension": ".py",
   "mimetype": "text/x-python",
   "name": "python",
   "nbconvert_exporter": "python",
   "pygments_lexer": "ipython3",
   "version": "3.8.3"
  }
 },
 "nbformat": 4,
 "nbformat_minor": 4
}
