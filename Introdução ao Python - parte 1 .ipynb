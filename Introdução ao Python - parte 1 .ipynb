{
 "cells": [
  {
   "cell_type": "markdown",
   "metadata": {},
   "source": [
    "#  <span style=\"color:pink\">Introdução ao Python</span>"
   ]
  },
  {
   "cell_type": "markdown",
   "metadata": {},
   "source": [
    "## <span style=\"color:green\">variaveis e codigos simples para memorizar pequenos problemas logicos</span>"
   ]
  },
  {
   "cell_type": "code",
   "execution_count": 8,
   "metadata": {},
   "outputs": [
    {
     "data": {
      "text/plain": [
       "2"
      ]
     },
     "execution_count": 8,
     "metadata": {},
     "output_type": "execute_result"
    }
   ],
   "source": [
    "1 + 1 #conta soma"
   ]
  },
  {
   "cell_type": "code",
   "execution_count": 9,
   "metadata": {},
   "outputs": [
    {
     "data": {
      "text/plain": [
       "2"
      ]
     },
     "execution_count": 9,
     "metadata": {},
     "output_type": "execute_result"
    }
   ],
   "source": [
    "4 - 2 #conta subtracao"
   ]
  },
  {
   "cell_type": "code",
   "execution_count": 10,
   "metadata": {},
   "outputs": [
    {
     "data": {
      "text/plain": [
       "25"
      ]
     },
     "execution_count": 10,
     "metadata": {},
     "output_type": "execute_result"
    }
   ],
   "source": [
    "5 * 5 #conta multiplicacao"
   ]
  },
  {
   "cell_type": "code",
   "execution_count": 11,
   "metadata": {},
   "outputs": [
    {
     "data": {
      "text/plain": [
       "3.0"
      ]
     },
     "execution_count": 11,
     "metadata": {},
     "output_type": "execute_result"
    }
   ],
   "source": [
    "6 / 2 #conta divisao"
   ]
  },
  {
   "cell_type": "code",
   "execution_count": 12,
   "metadata": {},
   "outputs": [
    {
     "data": {
      "text/plain": [
       "64"
      ]
     },
     "execution_count": 12,
     "metadata": {},
     "output_type": "execute_result"
    }
   ],
   "source": [
    "8 ** 2 #conta exponenciacao"
   ]
  },
  {
   "cell_type": "code",
   "execution_count": 13,
   "metadata": {},
   "outputs": [
    {
     "data": {
      "text/plain": [
       "5"
      ]
     },
     "execution_count": 13,
     "metadata": {},
     "output_type": "execute_result"
    }
   ],
   "source": [
    "11 // 2 #divisao - parte inteira"
   ]
  },
  {
   "cell_type": "code",
   "execution_count": 14,
   "metadata": {},
   "outputs": [
    {
     "data": {
      "text/plain": [
       "1"
      ]
     },
     "execution_count": 14,
     "metadata": {},
     "output_type": "execute_result"
    }
   ],
   "source": [
    "11 % 2 #divisao - resto"
   ]
  },
  {
   "cell_type": "code",
   "execution_count": 15,
   "metadata": {},
   "outputs": [
    {
     "name": "stdout",
     "output_type": "stream",
     "text": [
      "Oi Leila\n"
     ]
    }
   ],
   "source": [
    "#Comando print, imprimir a variacao que voce quer declarar\n",
    "print(\"Oi Leila\")"
   ]
  },
  {
   "cell_type": "code",
   "execution_count": 19,
   "metadata": {},
   "outputs": [
    {
     "name": "stdout",
     "output_type": "stream",
     "text": [
      "Oi Leila\n"
     ]
    }
   ],
   "source": [
    "#Ainda em print, temos aspas simples '', ou duplas \"\" para indezar uma mensagem no print, \n",
    "#mas em variaveis numericas deixamos livre, observe\n",
    "\n",
    "a = \"Oi \"\n",
    "b = \"Leila\"\n",
    "print(a + b)"
   ]
  },
  {
   "cell_type": "markdown",
   "metadata": {},
   "source": [
    "### Agora vamos aprimorar oque ja sabemos de *algoritmos*"
   ]
  },
  {
   "cell_type": "code",
   "execution_count": 36,
   "metadata": {},
   "outputs": [
    {
     "name": "stdout",
     "output_type": "stream",
     "text": [
      "6\n",
      "14\n"
     ]
    }
   ],
   "source": [
    "a = 2\n",
    "b = 4\n",
    "c = 6\n",
    "d = 8\n",
    "\n",
    "print(a+b)\n",
    "print(c+d)"
   ]
  },
  {
   "cell_type": "code",
   "execution_count": 24,
   "metadata": {},
   "outputs": [
    {
     "name": "stdout",
     "output_type": "stream",
     "text": [
      "30\n",
      "55\n",
      "85\n",
      "1650\n"
     ]
    }
   ],
   "source": [
    "a = 10\n",
    "b = 20\n",
    "c = 15\n",
    "d = 40\n",
    "y = a + b\n",
    "z = c + d \n",
    "\n",
    "print(y)\n",
    "print(z)\n",
    "print(y+z)\n",
    "print(y * z)"
   ]
  },
  {
   "cell_type": "code",
   "execution_count": 35,
   "metadata": {},
   "outputs": [
    {
     "name": "stdout",
     "output_type": "stream",
     "text": [
      "1\n"
     ]
    }
   ],
   "source": [
    "a = 45\n",
    "b = 4\n",
    "y = a ** 2\n",
    "\n",
    "print(y % b)"
   ]
  },
  {
   "cell_type": "markdown",
   "metadata": {},
   "source": [
    "#### Ha tambem varias formas de escrever o mesmo codigo, observe:"
   ]
  },
  {
   "cell_type": "code",
   "execution_count": 65,
   "metadata": {},
   "outputs": [
    {
     "name": "stdout",
     "output_type": "stream",
     "text": [
      "10\n",
      "9\n",
      "8\n",
      "7\n",
      "6\n"
     ]
    }
   ],
   "source": [
    "a = 4\n",
    "b = 6\n",
    "print(a+b)\n",
    "\n",
    "print(3+6)\n",
    "\n",
    "print(8)\n",
    "\n",
    "c = 3\n",
    "d = 4\n",
    "e = c + d \n",
    "print(e)\n",
    "\n",
    "print(e-1)"
   ]
  },
  {
   "cell_type": "markdown",
   "metadata": {},
   "source": [
    "### Print, print, print, mas afinal o que eh esse tal 'print'?\n",
    "#### Print eh uma condicao de impressao, atraves dele voce ira imprimir o que declarou no codigo,\n",
    "#### vai ser atraves do print que voce ira imprimir a maioria das alteracoes e variaveis indezadas"
   ]
  },
  {
   "cell_type": "code",
   "execution_count": 132,
   "metadata": {},
   "outputs": [
    {
     "name": "stdout",
     "output_type": "stream",
     "text": [
      "Comando print\n"
     ]
    }
   ],
   "source": [
    "#exemplo\n",
    "print(\"Comando print\")"
   ]
  },
  {
   "cell_type": "code",
   "execution_count": 133,
   "metadata": {},
   "outputs": [
    {
     "name": "stdout",
     "output_type": "stream",
     "text": [
      "14\n"
     ]
    }
   ],
   "source": [
    "a = 2\n",
    "b = 3\n",
    "c = 4\n",
    "print(a+b*c)"
   ]
  },
  {
   "cell_type": "code",
   "execution_count": 140,
   "metadata": {},
   "outputs": [
    {
     "name": "stdout",
     "output_type": "stream",
     "text": [
      "32\n"
     ]
    }
   ],
   "source": [
    "print(8*4)"
   ]
  },
  {
   "cell_type": "markdown",
   "metadata": {},
   "source": [
    "### Entrada de dados\n",
    "#### Input\n",
    "#### obs: input sempre retorna str"
   ]
  },
  {
   "cell_type": "code",
   "execution_count": 154,
   "metadata": {},
   "outputs": [
    {
     "name": "stdout",
     "output_type": "stream",
     "text": [
      "Seu nome eh...Leila\n",
      "Oi Leila\n"
     ]
    }
   ],
   "source": [
    "a = input(\"Seu nome eh...\")\n",
    "print(\"Oi \" + a)"
   ]
  },
  {
   "cell_type": "code",
   "execution_count": 155,
   "metadata": {},
   "outputs": [
    {
     "name": "stdout",
     "output_type": "stream",
     "text": [
      "Digite um nome Leila\n",
      "Leila, que belo nome!\n"
     ]
    }
   ],
   "source": [
    "x = input(\"Digite um nome \")\n",
    "print(x + \", que belo nome!\")"
   ]
  },
  {
   "cell_type": "code",
   "execution_count": 159,
   "metadata": {},
   "outputs": [
    {
     "name": "stdout",
     "output_type": "stream",
     "text": [
      "Quantos anos trabalhou?:10\n",
      "rendimento ao ano:2000\n",
      "Seu bonus eh de R$ 2010.0 \n"
     ]
    }
   ],
   "source": [
    "anos = int(input(\"Quantos anos trabalhou?:\")) #comando int transforma num inteiro\n",
    "rendimento_ao_ano = float(input(\"rendimento ao ano:\")) #comando float transforma a resposta em um decimal\n",
    "bonus = anos + rendimento_ao_ano #calcula o bonus com base nos anos trabalhados e o rendimento ao ano\n",
    "print(\"Seu bonus eh de R$ {} \".format(bonus)) #imprime o bonus com base no calculo montado"
   ]
  },
  {
   "cell_type": "markdown",
   "metadata": {},
   "source": [
    "##### Conversao "
   ]
  },
  {
   "cell_type": "markdown",
   "metadata": {},
   "source": [
    "## <span style=\"color:green\">Agora vamos para os tipos de variaveis</span>"
   ]
  },
  {
   "cell_type": "markdown",
   "metadata": {},
   "source": [
    "#### Int = inteiros (2, 4, 6, 8, 10. etc)\n",
    "#### Float = decimais (2.5, 4.7, 1.75, etc)\n",
    "#### Complex = numeros complexos (y+kj, x +2j, etc)\n",
    "#### Bool = boleanos (False(0), true(1))\n",
    "#### type = retorna o tipo (float, string, int, bool, etc)\n",
    "#### str = strnig (quatro, esquerda, baixo, etc)\n",
    "#### len = comprimento da str (str = 2)\n",
    "#### concatenacao = em uma string de uma funcao, conectar com algo a mais"
   ]
  },
  {
   "cell_type": "markdown",
   "metadata": {},
   "source": [
    "##### Vamos a pratica!"
   ]
  },
  {
   "cell_type": "code",
   "execution_count": 57,
   "metadata": {},
   "outputs": [
    {
     "name": "stdout",
     "output_type": "stream",
     "text": [
      "3.8\n",
      "<class 'float'>\n",
      "tres ponto oito\n",
      "<class 'str'>\n",
      "<class 'complex'>\n",
      "<class 'int'>\n",
      "<class 'bool'>\n"
     ]
    }
   ],
   "source": [
    "#Declarar variaveis e descobrir seus tipos\n",
    "a = 7.8 - 4\n",
    "b = 'tres ponto oito'\n",
    "c = 4 + 3j\n",
    "d = 4\n",
    "e = True\n",
    "\n",
    "print(a)\n",
    "print(type(a))\n",
    "print(b)\n",
    "print(type(b))\n",
    "print(type(c))\n",
    "print(type(d))\n",
    "print(type())"
   ]
  },
  {
   "cell_type": "code",
   "execution_count": 75,
   "metadata": {},
   "outputs": [
    {
     "name": "stdout",
     "output_type": "stream",
     "text": [
      "1100.0\n"
     ]
    }
   ],
   "source": [
    "#Exercicio aumento de salario\n",
    "#sal = salario, aum = aumento, nov_sal = novo salario\n",
    "\n",
    "sal = 1000\n",
    "aum = 10\n",
    "\n",
    "nov_sal = sal + (sal * (10/100))\n",
    "\n",
    "print(nov_sal)"
   ]
  },
  {
   "cell_type": "code",
   "execution_count": 77,
   "metadata": {},
   "outputs": [],
   "source": [
    "#Relacionar algoritmos\n",
    "\n",
    "a = 2\n",
    "b = 4\n",
    "c = 6\n",
    "d = 8\n",
    "e = 2\n",
    "f = 10"
   ]
  },
  {
   "cell_type": "code",
   "execution_count": 80,
   "metadata": {},
   "outputs": [
    {
     "data": {
      "text/plain": [
       "False"
      ]
     },
     "execution_count": 80,
     "metadata": {},
     "output_type": "execute_result"
    }
   ],
   "source": [
    "a > b"
   ]
  },
  {
   "cell_type": "code",
   "execution_count": 82,
   "metadata": {},
   "outputs": [
    {
     "data": {
      "text/plain": [
       "False"
      ]
     },
     "execution_count": 82,
     "metadata": {},
     "output_type": "execute_result"
    }
   ],
   "source": [
    "b == c"
   ]
  },
  {
   "cell_type": "code",
   "execution_count": 83,
   "metadata": {},
   "outputs": [
    {
     "data": {
      "text/plain": [
       "False"
      ]
     },
     "execution_count": 83,
     "metadata": {},
     "output_type": "execute_result"
    }
   ],
   "source": [
    "d < a"
   ]
  },
  {
   "cell_type": "code",
   "execution_count": 84,
   "metadata": {},
   "outputs": [
    {
     "data": {
      "text/plain": [
       "True"
      ]
     },
     "execution_count": 84,
     "metadata": {},
     "output_type": "execute_result"
    }
   ],
   "source": [
    "e == a"
   ]
  },
  {
   "cell_type": "code",
   "execution_count": 85,
   "metadata": {},
   "outputs": [
    {
     "data": {
      "text/plain": [
       "True"
      ]
     },
     "execution_count": 85,
     "metadata": {},
     "output_type": "execute_result"
    }
   ],
   "source": [
    "f >= c"
   ]
  },
  {
   "cell_type": "code",
   "execution_count": 94,
   "metadata": {},
   "outputs": [
    {
     "data": {
      "text/plain": [
       "4"
      ]
     },
     "execution_count": 94,
     "metadata": {},
     "output_type": "execute_result"
    }
   ],
   "source": [
    "#condicao len, conta a quantidade de caracters numa string\n",
    "len ('abcd')"
   ]
  },
  {
   "cell_type": "code",
   "execution_count": 101,
   "metadata": {},
   "outputs": [
    {
     "data": {
      "text/plain": [
       "'A'"
      ]
     },
     "execution_count": 101,
     "metadata": {},
     "output_type": "execute_result"
    }
   ],
   "source": [
    "#condicao ira dizer a posicao de cara str\n",
    "a = \"ABCDE\"\n",
    "a[0]"
   ]
  },
  {
   "cell_type": "code",
   "execution_count": 97,
   "metadata": {},
   "outputs": [
    {
     "data": {
      "text/plain": [
       "'B'"
      ]
     },
     "execution_count": 97,
     "metadata": {},
     "output_type": "execute_result"
    }
   ],
   "source": [
    "a[1]"
   ]
  },
  {
   "cell_type": "code",
   "execution_count": 98,
   "metadata": {},
   "outputs": [
    {
     "data": {
      "text/plain": [
       "'C'"
      ]
     },
     "execution_count": 98,
     "metadata": {},
     "output_type": "execute_result"
    }
   ],
   "source": [
    "a[2]"
   ]
  },
  {
   "cell_type": "code",
   "execution_count": 99,
   "metadata": {},
   "outputs": [
    {
     "data": {
      "text/plain": [
       "'D'"
      ]
     },
     "execution_count": 99,
     "metadata": {},
     "output_type": "execute_result"
    }
   ],
   "source": [
    "a[3]"
   ]
  },
  {
   "cell_type": "code",
   "execution_count": 100,
   "metadata": {},
   "outputs": [
    {
     "data": {
      "text/plain": [
       "'E'"
      ]
     },
     "execution_count": 100,
     "metadata": {},
     "output_type": "execute_result"
    }
   ],
   "source": [
    "a[4]"
   ]
  },
  {
   "cell_type": "code",
   "execution_count": 104,
   "metadata": {},
   "outputs": [
    {
     "data": {
      "text/plain": [
       "'ABCDE'"
      ]
     },
     "execution_count": 104,
     "metadata": {},
     "output_type": "execute_result"
    }
   ],
   "source": [
    "#condicao ira imprimir os caracters num intervalo entre a str\n",
    "a[0:5]"
   ]
  },
  {
   "cell_type": "code",
   "execution_count": 105,
   "metadata": {},
   "outputs": [
    {
     "data": {
      "text/plain": [
       "'CD'"
      ]
     },
     "execution_count": 105,
     "metadata": {},
     "output_type": "execute_result"
    }
   ],
   "source": [
    "a[2:4]"
   ]
  },
  {
   "cell_type": "code",
   "execution_count": 106,
   "metadata": {},
   "outputs": [
    {
     "data": {
      "text/plain": [
       "'ESCOLA'"
      ]
     },
     "execution_count": 106,
     "metadata": {},
     "output_type": "execute_result"
    }
   ],
   "source": [
    "#exercicio sobre concatenacao\n",
    "\n",
    "a = \"ESCOL\"\n",
    "a + \"A\""
   ]
  },
  {
   "cell_type": "code",
   "execution_count": 107,
   "metadata": {},
   "outputs": [
    {
     "data": {
      "text/plain": [
       "'ESCOLAAA'"
      ]
     },
     "execution_count": 107,
     "metadata": {},
     "output_type": "execute_result"
    }
   ],
   "source": [
    "a = \"ESCOL\"\n",
    "a + \"A\" * 3"
   ]
  },
  {
   "cell_type": "code",
   "execution_count": 108,
   "metadata": {},
   "outputs": [
    {
     "data": {
      "text/plain": [
       "'UwwwwU'"
      ]
     },
     "execution_count": 108,
     "metadata": {},
     "output_type": "execute_result"
    }
   ],
   "source": [
    "\"U\" + (\"w\"*4) + \"U\""
   ]
  },
  {
   "cell_type": "markdown",
   "metadata": {},
   "source": [
    "#### Composicao"
   ]
  },
  {
   "cell_type": "code",
   "execution_count": 117,
   "metadata": {},
   "outputs": [
    {
     "data": {
      "text/plain": [
       "'Joao tem 20 anos'"
      ]
     },
     "execution_count": 117,
     "metadata": {},
     "output_type": "execute_result"
    }
   ],
   "source": [
    "#exercicio com variaveis\n",
    "\n",
    "idade = 20\n",
    "\"Joao tem %d anos\" % idade\n",
    "\n",
    "#%d refere-se a inteiros"
   ]
  },
  {
   "cell_type": "code",
   "execution_count": 118,
   "metadata": {},
   "outputs": [
    {
     "data": {
      "text/plain": [
       "'Joao tem 20.00 anos'"
      ]
     },
     "execution_count": 118,
     "metadata": {},
     "output_type": "execute_result"
    }
   ],
   "source": [
    "idade = 20\n",
    "\"Joao tem %2.2f anos\" %idade \n",
    "\n",
    "#%f refere-se a float , e 2.f refere-se a qnt de decimais apos a virgula"
   ]
  },
  {
   "cell_type": "code",
   "execution_count": 122,
   "metadata": {},
   "outputs": [
    {
     "data": {
      "text/plain": [
       "'Leila tem 19 anos'"
      ]
     },
     "execution_count": 122,
     "metadata": {},
     "output_type": "execute_result"
    }
   ],
   "source": [
    "idade = 19 \n",
    "nome = \"Leila\"\n",
    "\"%s tem %d anos\" % (nome, idade) \n",
    "\n",
    "#%s refere-se a strings, no caso sendo o nome"
   ]
  },
  {
   "cell_type": "code",
   "execution_count": 127,
   "metadata": {},
   "outputs": [
    {
     "data": {
      "text/plain": [
       "'Leila tem 19 anos e R$ 50.50 no banco'"
      ]
     },
     "execution_count": 127,
     "metadata": {},
     "output_type": "execute_result"
    }
   ],
   "source": [
    "nome = \"Leila\"\n",
    "idade = 19\n",
    "dinheiro = 50.50\n",
    "\n",
    "\"%s tem %d anos e R$ %2.2f no banco\" % (nome, idade, dinheiro) \n",
    "#observe que temos um R$ para representar o dinheiro, sendo  o float ali descrito"
   ]
  },
  {
   "cell_type": "markdown",
   "metadata": {},
   "source": [
    "#### Composicao utilizando format"
   ]
  },
  {
   "cell_type": "code",
   "execution_count": 128,
   "metadata": {},
   "outputs": [
    {
     "data": {
      "text/plain": [
       "'Leila tem 19 anos e 50.5 no banco'"
      ]
     },
     "execution_count": 128,
     "metadata": {},
     "output_type": "execute_result"
    }
   ],
   "source": [
    "nome = \"Leila\"\n",
    "idade = 19\n",
    "dinheiro = 50.50\n",
    "\"{} tem {} anos e {} no banco\". format (nome, idade, dinheiro)\n",
    "\n",
    "#usando o metodo format, nao precisamos usar o operador % nem a indicacao de variavel na str, float e int"
   ]
  },
  {
   "cell_type": "markdown",
   "metadata": {},
   "source": [
    "## <span style=\"color:green\">Chegando nos operadores logicos...temos</span>"
   ]
  },
  {
   "cell_type": "markdown",
   "metadata": {},
   "source": [
    "#### not = afirmacao de condicao (ex, not true = false)\n",
    "#### Agora temos a tabela verdade\n",
    "#### (and)\n",
    "#### true e true    = true\n",
    "#### true e false   = false\n",
    "#### false e false  = false\n",
    "#### false e true   = false\n",
    "#### (or)\n",
    "#### true or true   = true\n",
    "#### true or false  = true\n",
    "#### false or true  = true\n",
    "#### false or false = false"
   ]
  },
  {
   "cell_type": "markdown",
   "metadata": {},
   "source": [
    "#### Vamos a pratica!"
   ]
  },
  {
   "cell_type": "code",
   "execution_count": 89,
   "metadata": {},
   "outputs": [
    {
     "data": {
      "text/plain": [
       "True"
      ]
     },
     "execution_count": 89,
     "metadata": {},
     "output_type": "execute_result"
    }
   ],
   "source": [
    "#Salario e condicao, verdadeira ou falsa\n",
    "\n",
    "salario = 2000\n",
    "idade = 20\n",
    "\n",
    "salario >= 1500 and idade >= 19"
   ]
  },
  {
   "cell_type": "code",
   "execution_count": 90,
   "metadata": {},
   "outputs": [
    {
     "data": {
      "text/plain": [
       "False"
      ]
     },
     "execution_count": 90,
     "metadata": {},
     "output_type": "execute_result"
    }
   ],
   "source": [
    "salario = 1000\n",
    "idade = 18\n",
    "\n",
    "salario >= 1500 and idade >= 19"
   ]
  },
  {
   "cell_type": "markdown",
   "metadata": {},
   "source": [
    "#### Sequencia e tempo:\n",
    "#### o codigo no programa segue uma ordem, linha por linha, executado de maneira progessa, quando utilizamos variaveis \n",
    "#### nosso codigo pode ser alterado de acordo com as condicoes do codigo"
   ]
  },
  {
   "cell_type": "code",
   "execution_count": 129,
   "metadata": {},
   "outputs": [
    {
     "name": "stdout",
     "output_type": "stream",
     "text": [
      "600\n"
     ]
    }
   ],
   "source": [
    "divida = 0\n",
    "compra = 100\n",
    "divida = divida+compra #aq a divida se funde com oq foi comprado\n",
    "compra = 200\n",
    "divida = divida+compra #soma oq tinha de divida (100) + oq foi comprado\n",
    "compra = 300\n",
    "divida = divida+compra #novamento a divida se acumula mais a compra atual\n",
    "compra = 0\n",
    "print(divida)"
   ]
  }
 ],
 "metadata": {
  "kernelspec": {
   "display_name": "Python 3",
   "language": "python",
   "name": "python3"
  },
  "language_info": {
   "codemirror_mode": {
    "name": "ipython",
    "version": 3
   },
   "file_extension": ".py",
   "mimetype": "text/x-python",
   "name": "python",
   "nbconvert_exporter": "python",
   "pygments_lexer": "ipython3",
   "version": "3.8.3"
  }
 },
 "nbformat": 4,
 "nbformat_minor": 4
}
